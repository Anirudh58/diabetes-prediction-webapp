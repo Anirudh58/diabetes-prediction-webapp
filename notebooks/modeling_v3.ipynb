{
  "cells": [
    {
      "cell_type": "code",
      "execution_count": 4,
      "id": "308f9dc0-6c5e-4c6c-bf35-8707912c8522",
      "metadata": {
        "tags": [],
        "id": "308f9dc0-6c5e-4c6c-bf35-8707912c8522"
      },
      "outputs": [],
      "source": [
        "import datetime\n",
        "\n",
        "import os\n",
        "import pickle\n",
        "import sys\n",
        "\n",
        "import numpy as np\n",
        "import pandas as pd\n",
        "\n",
        "from sklearn.model_selection import train_test_split\n",
        "from sklearn.linear_model import LogisticRegression\n",
        "from sklearn.metrics import accuracy_score, confusion_matrix\n",
        "from sklearn.preprocessing import MinMaxScaler\n",
        "from sklearn.tree import DecisionTreeClassifier\n",
        "from sklearn.ensemble import RandomForestClassifier, GradientBoostingClassifier\n",
        "from sklearn.svm import SVC\n",
        "from sklearn.neural_network import MLPClassifier"
      ]
    },
    {
      "cell_type": "markdown",
      "id": "a30e063d-7454-460a-b236-3c17d5524ebe",
      "metadata": {
        "id": "a30e063d-7454-460a-b236-3c17d5524ebe"
      },
      "source": [
        "## Config"
      ]
    },
    {
      "cell_type": "code",
      "execution_count": 5,
      "id": "53788864-6bc3-447f-9c85-7fd5e1d09a90",
      "metadata": {
        "tags": [],
        "id": "53788864-6bc3-447f-9c85-7fd5e1d09a90"
      },
      "outputs": [],
      "source": [
        "root_dir = \"./../\"\n",
        "data_path = os.path.join(root_dir, 'data')\n",
        "diabetes_dataset_path = os.path.join(data_path, 'diabetes.csv')\n",
        "models_path = os.path.join(root_dir, 'models')"
      ]
    },
    {
      "cell_type": "markdown",
      "id": "df752006-812e-49f2-bbdf-4636b2ade449",
      "metadata": {
        "id": "df752006-812e-49f2-bbdf-4636b2ade449"
      },
      "source": [
        "## Load the dataset"
      ]
    },
    {
      "cell_type": "code",
      "execution_count": 7,
      "id": "8b389da7-00d6-4abc-abde-c30df7d9542e",
      "metadata": {
        "tags": [],
        "colab": {
          "base_uri": "https://localhost:8080/"
        },
        "id": "8b389da7-00d6-4abc-abde-c30df7d9542e",
        "outputId": "abf25fce-ccea-483d-9be5-e8864e256c10"
      },
      "outputs": [
        {
          "output_type": "stream",
          "name": "stdout",
          "text": [
            "Features: ['Pregnancies', 'Glucose', 'BloodPressure', 'SkinThickness', 'Insulin', 'BMI', 'DiabetesPedigreeFunction', 'Age'] Predict: Outcome\n"
          ]
        }
      ],
      "source": [
        "df_diabetes = pd.read_csv(diabetes_dataset_path)\n",
        "print(f\"Features: {list(df_diabetes.columns[:-1])} Predict: {df_diabetes.columns[-1]}\")"
      ]
    },
    {
      "cell_type": "code",
      "execution_count": 8,
      "id": "35348f07-8e75-4251-a1e3-2fccf68c65e8",
      "metadata": {
        "tags": [],
        "colab": {
          "base_uri": "https://localhost:8080/"
        },
        "id": "35348f07-8e75-4251-a1e3-2fccf68c65e8",
        "outputId": "d51fe567-d912-4116-abcd-9ca258a6c30b"
      },
      "outputs": [
        {
          "output_type": "stream",
          "name": "stdout",
          "text": [
            "Positive labels (Outcome=1): 268\n",
            "Negative labels (Outcome=0): 500\n"
          ]
        }
      ],
      "source": [
        "# count the number of positive and negative labels\n",
        "counts = df_diabetes[\"Outcome\"].value_counts()\n",
        "\n",
        "# print the counts\n",
        "print(\"Positive labels (Outcome=1):\", counts[1])\n",
        "print(\"Negative labels (Outcome=0):\", counts[0])"
      ]
    },
    {
      "cell_type": "markdown",
      "source": [
        "## Data Insights"
      ],
      "metadata": {
        "id": "XrD_4FGxKbJH"
      },
      "id": "XrD_4FGxKbJH"
    },
    {
      "cell_type": "code",
      "source": [
        "df_diabetes.head(5)"
      ],
      "metadata": {
        "colab": {
          "base_uri": "https://localhost:8080/",
          "height": 206
        },
        "id": "XDSb-IfvKo0q",
        "outputId": "5a96cd58-0486-4822-e0a5-595c6ea3f8c9"
      },
      "id": "XDSb-IfvKo0q",
      "execution_count": 9,
      "outputs": [
        {
          "output_type": "execute_result",
          "data": {
            "text/plain": [
              "   Pregnancies  Glucose  BloodPressure  SkinThickness  Insulin   BMI  \\\n",
              "0            6      148             72             35        0  33.6   \n",
              "1            1       85             66             29        0  26.6   \n",
              "2            8      183             64              0        0  23.3   \n",
              "3            1       89             66             23       94  28.1   \n",
              "4            0      137             40             35      168  43.1   \n",
              "\n",
              "   DiabetesPedigreeFunction  Age  Outcome  \n",
              "0                     0.627   50        1  \n",
              "1                     0.351   31        0  \n",
              "2                     0.672   32        1  \n",
              "3                     0.167   21        0  \n",
              "4                     2.288   33        1  "
            ],
            "text/html": [
              "\n",
              "  <div id=\"df-2565144d-75b5-4c66-b033-ca0142eaac5a\">\n",
              "    <div class=\"colab-df-container\">\n",
              "      <div>\n",
              "<style scoped>\n",
              "    .dataframe tbody tr th:only-of-type {\n",
              "        vertical-align: middle;\n",
              "    }\n",
              "\n",
              "    .dataframe tbody tr th {\n",
              "        vertical-align: top;\n",
              "    }\n",
              "\n",
              "    .dataframe thead th {\n",
              "        text-align: right;\n",
              "    }\n",
              "</style>\n",
              "<table border=\"1\" class=\"dataframe\">\n",
              "  <thead>\n",
              "    <tr style=\"text-align: right;\">\n",
              "      <th></th>\n",
              "      <th>Pregnancies</th>\n",
              "      <th>Glucose</th>\n",
              "      <th>BloodPressure</th>\n",
              "      <th>SkinThickness</th>\n",
              "      <th>Insulin</th>\n",
              "      <th>BMI</th>\n",
              "      <th>DiabetesPedigreeFunction</th>\n",
              "      <th>Age</th>\n",
              "      <th>Outcome</th>\n",
              "    </tr>\n",
              "  </thead>\n",
              "  <tbody>\n",
              "    <tr>\n",
              "      <th>0</th>\n",
              "      <td>6</td>\n",
              "      <td>148</td>\n",
              "      <td>72</td>\n",
              "      <td>35</td>\n",
              "      <td>0</td>\n",
              "      <td>33.6</td>\n",
              "      <td>0.627</td>\n",
              "      <td>50</td>\n",
              "      <td>1</td>\n",
              "    </tr>\n",
              "    <tr>\n",
              "      <th>1</th>\n",
              "      <td>1</td>\n",
              "      <td>85</td>\n",
              "      <td>66</td>\n",
              "      <td>29</td>\n",
              "      <td>0</td>\n",
              "      <td>26.6</td>\n",
              "      <td>0.351</td>\n",
              "      <td>31</td>\n",
              "      <td>0</td>\n",
              "    </tr>\n",
              "    <tr>\n",
              "      <th>2</th>\n",
              "      <td>8</td>\n",
              "      <td>183</td>\n",
              "      <td>64</td>\n",
              "      <td>0</td>\n",
              "      <td>0</td>\n",
              "      <td>23.3</td>\n",
              "      <td>0.672</td>\n",
              "      <td>32</td>\n",
              "      <td>1</td>\n",
              "    </tr>\n",
              "    <tr>\n",
              "      <th>3</th>\n",
              "      <td>1</td>\n",
              "      <td>89</td>\n",
              "      <td>66</td>\n",
              "      <td>23</td>\n",
              "      <td>94</td>\n",
              "      <td>28.1</td>\n",
              "      <td>0.167</td>\n",
              "      <td>21</td>\n",
              "      <td>0</td>\n",
              "    </tr>\n",
              "    <tr>\n",
              "      <th>4</th>\n",
              "      <td>0</td>\n",
              "      <td>137</td>\n",
              "      <td>40</td>\n",
              "      <td>35</td>\n",
              "      <td>168</td>\n",
              "      <td>43.1</td>\n",
              "      <td>2.288</td>\n",
              "      <td>33</td>\n",
              "      <td>1</td>\n",
              "    </tr>\n",
              "  </tbody>\n",
              "</table>\n",
              "</div>\n",
              "      <button class=\"colab-df-convert\" onclick=\"convertToInteractive('df-2565144d-75b5-4c66-b033-ca0142eaac5a')\"\n",
              "              title=\"Convert this dataframe to an interactive table.\"\n",
              "              style=\"display:none;\">\n",
              "        \n",
              "  <svg xmlns=\"http://www.w3.org/2000/svg\" height=\"24px\"viewBox=\"0 0 24 24\"\n",
              "       width=\"24px\">\n",
              "    <path d=\"M0 0h24v24H0V0z\" fill=\"none\"/>\n",
              "    <path d=\"M18.56 5.44l.94 2.06.94-2.06 2.06-.94-2.06-.94-.94-2.06-.94 2.06-2.06.94zm-11 1L8.5 8.5l.94-2.06 2.06-.94-2.06-.94L8.5 2.5l-.94 2.06-2.06.94zm10 10l.94 2.06.94-2.06 2.06-.94-2.06-.94-.94-2.06-.94 2.06-2.06.94z\"/><path d=\"M17.41 7.96l-1.37-1.37c-.4-.4-.92-.59-1.43-.59-.52 0-1.04.2-1.43.59L10.3 9.45l-7.72 7.72c-.78.78-.78 2.05 0 2.83L4 21.41c.39.39.9.59 1.41.59.51 0 1.02-.2 1.41-.59l7.78-7.78 2.81-2.81c.8-.78.8-2.07 0-2.86zM5.41 20L4 18.59l7.72-7.72 1.47 1.35L5.41 20z\"/>\n",
              "  </svg>\n",
              "      </button>\n",
              "      \n",
              "  <style>\n",
              "    .colab-df-container {\n",
              "      display:flex;\n",
              "      flex-wrap:wrap;\n",
              "      gap: 12px;\n",
              "    }\n",
              "\n",
              "    .colab-df-convert {\n",
              "      background-color: #E8F0FE;\n",
              "      border: none;\n",
              "      border-radius: 50%;\n",
              "      cursor: pointer;\n",
              "      display: none;\n",
              "      fill: #1967D2;\n",
              "      height: 32px;\n",
              "      padding: 0 0 0 0;\n",
              "      width: 32px;\n",
              "    }\n",
              "\n",
              "    .colab-df-convert:hover {\n",
              "      background-color: #E2EBFA;\n",
              "      box-shadow: 0px 1px 2px rgba(60, 64, 67, 0.3), 0px 1px 3px 1px rgba(60, 64, 67, 0.15);\n",
              "      fill: #174EA6;\n",
              "    }\n",
              "\n",
              "    [theme=dark] .colab-df-convert {\n",
              "      background-color: #3B4455;\n",
              "      fill: #D2E3FC;\n",
              "    }\n",
              "\n",
              "    [theme=dark] .colab-df-convert:hover {\n",
              "      background-color: #434B5C;\n",
              "      box-shadow: 0px 1px 3px 1px rgba(0, 0, 0, 0.15);\n",
              "      filter: drop-shadow(0px 1px 2px rgba(0, 0, 0, 0.3));\n",
              "      fill: #FFFFFF;\n",
              "    }\n",
              "  </style>\n",
              "\n",
              "      <script>\n",
              "        const buttonEl =\n",
              "          document.querySelector('#df-2565144d-75b5-4c66-b033-ca0142eaac5a button.colab-df-convert');\n",
              "        buttonEl.style.display =\n",
              "          google.colab.kernel.accessAllowed ? 'block' : 'none';\n",
              "\n",
              "        async function convertToInteractive(key) {\n",
              "          const element = document.querySelector('#df-2565144d-75b5-4c66-b033-ca0142eaac5a');\n",
              "          const dataTable =\n",
              "            await google.colab.kernel.invokeFunction('convertToInteractive',\n",
              "                                                     [key], {});\n",
              "          if (!dataTable) return;\n",
              "\n",
              "          const docLinkHtml = 'Like what you see? Visit the ' +\n",
              "            '<a target=\"_blank\" href=https://colab.research.google.com/notebooks/data_table.ipynb>data table notebook</a>'\n",
              "            + ' to learn more about interactive tables.';\n",
              "          element.innerHTML = '';\n",
              "          dataTable['output_type'] = 'display_data';\n",
              "          await google.colab.output.renderOutput(dataTable, element);\n",
              "          const docLink = document.createElement('div');\n",
              "          docLink.innerHTML = docLinkHtml;\n",
              "          element.appendChild(docLink);\n",
              "        }\n",
              "      </script>\n",
              "    </div>\n",
              "  </div>\n",
              "  "
            ]
          },
          "metadata": {},
          "execution_count": 9
        }
      ]
    },
    {
      "cell_type": "code",
      "source": [
        "df2 = df_diabetes.groupby(['Outcome']).agg(['mean'])\n",
        "df2 = df2[['Glucose', 'BMI', 'Insulin', 'Age']]\n",
        "print(df2)"
      ],
      "metadata": {
        "colab": {
          "base_uri": "https://localhost:8080/"
        },
        "id": "I0rDg--lKtP9",
        "outputId": "e0115abe-f566-4f6f-d708-a4d47e342a9b"
      },
      "id": "I0rDg--lKtP9",
      "execution_count": 10,
      "outputs": [
        {
          "output_type": "stream",
          "name": "stdout",
          "text": [
            "            Glucose        BMI     Insulin        Age\n",
            "               mean       mean        mean       mean\n",
            "Outcome                                              \n",
            "0        109.980000  30.304200   68.792000  31.190000\n",
            "1        141.257463  35.142537  100.335821  37.067164\n"
          ]
        }
      ]
    },
    {
      "cell_type": "code",
      "source": [
        "import matplotlib.pyplot as plt\n",
        "\n",
        "data = [[30, 25, 50, 20],\n",
        "[40, 23, 51, 17]]\n",
        "X = np.arange(4)\n",
        "fig = plt.figure()\n",
        "ax = fig.add_axes([0,0,1,1])\n",
        "ax.set_title('Comparing relevant health parameters')\n",
        "ax.set_xticks(X, ['Glucose', 'BMI', 'Insulin', 'Age'])\n",
        "ax.bar(X - 0.05, df2.iloc[0], color = 'g', width = 0.1)\n",
        "ax.bar(X + 0.05, df2.iloc[1], color = 'y', width = 0.1)\n",
        "ax.legend(labels=['Diabetes -ve', 'Diabetes +ve'])"
      ],
      "metadata": {
        "colab": {
          "base_uri": "https://localhost:8080/",
          "height": 580
        },
        "id": "JG7t_O1oKwXr",
        "outputId": "fa3d3786-130f-424f-aea1-e6d9eb48ae69"
      },
      "id": "JG7t_O1oKwXr",
      "execution_count": 11,
      "outputs": [
        {
          "output_type": "execute_result",
          "data": {
            "text/plain": [
              "<matplotlib.legend.Legend at 0x7fb4a42e4cd0>"
            ]
          },
          "metadata": {},
          "execution_count": 11
        },
        {
          "output_type": "display_data",
          "data": {
            "text/plain": [
              "<Figure size 640x480 with 1 Axes>"
            ],
            "image/png": "[encoded data removed]"
          },
          "metadata": {}
        }
      ]
    },
    {
      "cell_type": "code",
      "source": [
        "glucose_val = df_diabetes['Glucose']\n",
        "insulin_val = df_diabetes['Insulin']\n",
        "\n",
        "plt.scatter(glucose_val, insulin_val)\n",
        "\n",
        "plt.xlabel(\"Glucose Level\")\n",
        "plt.ylabel(\"Insulin Level\")\n",
        "plt.show()"
      ],
      "metadata": {
        "colab": {
          "base_uri": "https://localhost:8080/",
          "height": 449
        },
        "id": "rLxmpphNKx_m",
        "outputId": "2de83ec3-332c-49a3-ef04-c7bbcc70b360"
      },
      "id": "rLxmpphNKx_m",
      "execution_count": 12,
      "outputs": [
        {
          "output_type": "display_data",
          "data": {
            "text/plain": [
              "<Figure size 640x480 with 1 Axes>"
            ],
            "image/png": "[encoded data removed]"
          },
          "metadata": {}
        }
      ]
    },
    {
      "cell_type": "markdown",
      "id": "4636676b-5bd1-45a7-93bf-abdf6493af37",
      "metadata": {
        "tags": [],
        "id": "4636676b-5bd1-45a7-93bf-abdf6493af37"
      },
      "source": [
        "## Logistic Regression"
      ]
    },
    {
      "cell_type": "code",
      "execution_count": 23,
      "id": "abaf94f4-a624-4863-82de-99ac29290840",
      "metadata": {
        "tags": [],
        "colab": {
          "base_uri": "https://localhost:8080/"
        },
        "id": "abaf94f4-a624-4863-82de-99ac29290840",
        "outputId": "6cbda11a-3cfc-49fa-e82f-0131ae576321"
      },
      "outputs": [
        {
          "output_type": "stream",
          "name": "stdout",
          "text": [
            "Accuracy: 0.7857142857142857\n",
            "Confusion matrix:\n",
            "[[90  9]\n",
            " [24 31]]\n"
          ]
        }
      ],
      "source": [
        "# splitting the dataset into training and testing sets\n",
        "X = df_diabetes.drop(\"Outcome\", axis=1)\n",
        "y = df_diabetes[\"Outcome\"]\n",
        "X_train, X_test, y_train, y_test = train_test_split(X, y, test_size=0.2, random_state=42)\n",
        "\n",
        "# normalizing the dataset\n",
        "scaler = MinMaxScaler()\n",
        "X_train = scaler.fit_transform(X_train)\n",
        "X_test = scaler.transform(X_test)\n",
        "\n",
        "# creating the Logistic Regression model\n",
        "lr_model = LogisticRegression(penalty='l2', C=0.5)\n",
        "\n",
        "# fit to the train data\n",
        "lr_model.fit(X_train, y_train)\n",
        "\n",
        "# making predictions on the test data\n",
        "y_pred = lr_model.predict(X_test)\n",
        "\n",
        "# evaluating the model performance\n",
        "accuracy = accuracy_score(y_test, y_pred)\n",
        "cm = confusion_matrix(y_test, y_pred)\n",
        "\n",
        "print(f\"Accuracy: {accuracy}\")\n",
        "print(f\"Confusion matrix:\\n{cm}\")"
      ]
    },
    {
      "cell_type": "markdown",
      "id": "2d38a927-c22f-4075-8ab9-7afe52a4762f",
      "metadata": {
        "id": "2d38a927-c22f-4075-8ab9-7afe52a4762f"
      },
      "source": [
        "## Decision Trees"
      ]
    },
    {
      "cell_type": "code",
      "execution_count": 24,
      "id": "6a43d66a-a8a6-429c-a93d-3fbc51885dc4",
      "metadata": {
        "tags": [],
        "colab": {
          "base_uri": "https://localhost:8080/"
        },
        "id": "6a43d66a-a8a6-429c-a93d-3fbc51885dc4",
        "outputId": "ef844004-953c-465f-eb29-cfca275e993d"
      },
      "outputs": [
        {
          "output_type": "stream",
          "name": "stdout",
          "text": [
            "Accuracy: 0.7922077922077922\n",
            "Confusion matrix:\n",
            "[[87 12]\n",
            " [20 35]]\n"
          ]
        }
      ],
      "source": [
        "# splitting the dataset into training and testing sets\n",
        "X = df_diabetes.drop(\"Outcome\", axis=1)\n",
        "y = df_diabetes[\"Outcome\"]\n",
        "X_train, X_test, y_train, y_test = train_test_split(X, y, test_size=0.2, random_state=42)\n",
        "\n",
        "# creating the Decision Tree model\n",
        "dt_model = DecisionTreeClassifier(min_samples_split=5, max_depth=5)\n",
        "\n",
        "# fitting the model on the training data and making predictions on the test data\n",
        "dt_model.fit(X_train, y_train)\n",
        "y_pred = dt_model.predict(X_test)\n",
        "\n",
        "# evaluating the model performance\n",
        "accuracy = accuracy_score(y_test, y_pred)\n",
        "cm = confusion_matrix(y_test, y_pred)\n",
        "\n",
        "print(\"Accuracy:\", accuracy)\n",
        "print(f\"Confusion matrix:\\n{cm}\")"
      ]
    },
    {
      "cell_type": "markdown",
      "id": "cb187221-af45-49c5-a3fe-abb917571034",
      "metadata": {
        "id": "cb187221-af45-49c5-a3fe-abb917571034"
      },
      "source": [
        "## Random Forest"
      ]
    },
    {
      "cell_type": "code",
      "execution_count": 31,
      "id": "f354e56e-a51a-4875-8861-2223d2b1d309",
      "metadata": {
        "tags": [],
        "colab": {
          "base_uri": "https://localhost:8080/"
        },
        "id": "f354e56e-a51a-4875-8861-2223d2b1d309",
        "outputId": "6e0b62d7-962c-4740-d50f-cc259bb7e16b"
      },
      "outputs": [
        {
          "output_type": "stream",
          "name": "stdout",
          "text": [
            "Accuracy: 0.7597402597402597\n",
            "Confusion matrix:\n",
            "[[82 17]\n",
            " [20 35]]\n"
          ]
        }
      ],
      "source": [
        "# splitting the dataset into training and testing sets\n",
        "X = df_diabetes.drop(\"Outcome\", axis=1)\n",
        "y = df_diabetes[\"Outcome\"]\n",
        "X_train, X_test, y_train, y_test = train_test_split(X, y, test_size=0.2, random_state=42)\n",
        "\n",
        "# creating the Random Forest model\n",
        "rf_model = RandomForestClassifier(n_estimators=100, max_depth=5, min_samples_split=5, min_samples_leaf=2, max_features='sqrt')\n",
        "\n",
        "# fitting the model on the training data and making predictions on the test data\n",
        "rf_model.fit(X_train, y_train)\n",
        "y_pred = rf_model.predict(X_test)\n",
        "\n",
        "# evaluating the model performance\n",
        "accuracy = accuracy_score(y_test, y_pred)\n",
        "cm = confusion_matrix(y_test, y_pred)\n",
        "\n",
        "print(\"Accuracy:\", accuracy)\n",
        "print(f\"Confusion matrix:\\n{cm}\")"
      ]
    },
    {
      "cell_type": "markdown",
      "id": "656dfd3e-5b67-4d03-96f2-0d1bb185d0f9",
      "metadata": {
        "id": "656dfd3e-5b67-4d03-96f2-0d1bb185d0f9"
      },
      "source": [
        "## SVM"
      ]
    },
    {
      "cell_type": "code",
      "execution_count": 39,
      "id": "632caf0d-b67f-47ae-b1df-8b62ee6a182a",
      "metadata": {
        "colab": {
          "base_uri": "https://localhost:8080/"
        },
        "id": "632caf0d-b67f-47ae-b1df-8b62ee6a182a",
        "outputId": "e0fba697-0827-4d78-cdcc-980cb2a7d256"
      },
      "outputs": [
        {
          "output_type": "stream",
          "name": "stdout",
          "text": [
            "Accuracy: 0.7727272727272727\n",
            "Confusion matrix:\n",
            "[[86 13]\n",
            " [22 33]]\n"
          ]
        }
      ],
      "source": [
        "# splitting the dataset into training and testing sets\n",
        "X = df_diabetes.drop(\"Outcome\", axis=1)\n",
        "y = df_diabetes[\"Outcome\"]\n",
        "X_train, X_test, y_train, y_test = train_test_split(X, y, test_size=0.2, random_state=42)\n",
        "\n",
        "# creating the SVM model\n",
        "svm_model = SVC(C=2.0, kernel='rbf')\n",
        "\n",
        "# fitting the model on the training data and making predictions on the test data\n",
        "svm_model.fit(X_train, y_train)\n",
        "y_pred = svm_model.predict(X_test)\n",
        "\n",
        "# evaluating the model performance\n",
        "accuracy = accuracy_score(y_test, y_pred)\n",
        "cm = confusion_matrix(y_test, y_pred)\n",
        "\n",
        "print(\"Accuracy:\", accuracy)\n",
        "print(f\"Confusion matrix:\\n{cm}\")"
      ]
    },
    {
      "cell_type": "markdown",
      "id": "75158482-55e3-4d24-8831-d8da27072561",
      "metadata": {
        "id": "75158482-55e3-4d24-8831-d8da27072561"
      },
      "source": [
        "## Gradient Boosting"
      ]
    },
    {
      "cell_type": "code",
      "execution_count": 55,
      "id": "ec09d8d2-dc28-4a1e-b01b-0d65d0ba14ec",
      "metadata": {
        "tags": [],
        "colab": {
          "base_uri": "https://localhost:8080/"
        },
        "id": "ec09d8d2-dc28-4a1e-b01b-0d65d0ba14ec",
        "outputId": "fed4b295-45f6-4da3-ccdd-999f73d4be14"
      },
      "outputs": [
        {
          "output_type": "stream",
          "name": "stdout",
          "text": [
            "Accuracy: 0.7532467532467533\n",
            "Confusion matrix:\n",
            "[[76 23]\n",
            " [15 40]]\n"
          ]
        }
      ],
      "source": [
        "# splitting the dataset into training and testing sets\n",
        "X = df_diabetes.drop(\"Outcome\", axis=1)\n",
        "y = df_diabetes[\"Outcome\"]\n",
        "X_train, X_test, y_train, y_test = train_test_split(X, y, test_size=0.2, random_state=42)\n",
        "\n",
        "# creating the Gradient Boosting model\n",
        "gb_model = GradientBoostingClassifier(learning_rate=1.0, n_estimators=100, max_depth=10, min_samples_split=5, min_samples_leaf=1, random_state=42)\n",
        "\n",
        "# fitting the model on the training data and making predictions on the test data\n",
        "gb_model.fit(X_train, y_train)\n",
        "y_pred = gb_model.predict(X_test)\n",
        "\n",
        "# evaluating the model performance\n",
        "accuracy = accuracy_score(y_test, y_pred)\n",
        "cm = confusion_matrix(y_test, y_pred)\n",
        "\n",
        "print(\"Accuracy:\", accuracy)\n",
        "print(f\"Confusion matrix:\\n{cm}\")"
      ]
    },
    {
      "cell_type": "markdown",
      "id": "643bec74-251a-4acc-8fe9-d377886e7d0e",
      "metadata": {
        "id": "643bec74-251a-4acc-8fe9-d377886e7d0e"
      },
      "source": [
        "## Neural Networks"
      ]
    },
    {
      "cell_type": "code",
      "execution_count": 71,
      "id": "e615b343-eee4-4945-b0cf-f995f8b32947",
      "metadata": {
        "tags": [],
        "colab": {
          "base_uri": "https://localhost:8080/"
        },
        "id": "e615b343-eee4-4945-b0cf-f995f8b32947",
        "outputId": "6593b536-0bdb-4085-e968-43795e82b0be"
      },
      "outputs": [
        {
          "output_type": "stream",
          "name": "stdout",
          "text": [
            "Accuracy: 0.7077922077922078\n",
            "Confusion matrix:\n",
            "[[95  4]\n",
            " [41 14]]\n"
          ]
        },
        {
          "output_type": "stream",
          "name": "stderr",
          "text": [
            "/usr/local/lib/python3.9/dist-packages/sklearn/neural_network/_multilayer_perceptron.py:686: ConvergenceWarning: Stochastic Optimizer: Maximum iterations (200) reached and the optimization hasn't converged yet.\n",
            "  warnings.warn(\n"
          ]
        }
      ],
      "source": [
        "# splitting the dataset into training and testing sets\n",
        "X = df_diabetes.drop(\"Outcome\", axis=1)\n",
        "y = df_diabetes[\"Outcome\"]\n",
        "X_train, X_test, y_train, y_test = train_test_split(X, y, test_size=0.2, random_state=42)\n",
        "\n",
        "# creating the neural network model\n",
        "nn_model = MLPClassifier(hidden_layer_sizes=(16,8,4), activation='relu', solver='adam', max_iter=200, alpha=0.45)\n",
        "\n",
        "# fitting the model on the training data and making predictions on the test data\n",
        "nn_model.fit(X_train, y_train)\n",
        "y_pred = nn_model.predict(X_test)\n",
        "\n",
        "# evaluating the model performance\n",
        "accuracy = accuracy_score(y_test, y_pred)\n",
        "cm = confusion_matrix(y_test, y_pred)\n",
        "\n",
        "print(\"Accuracy:\", accuracy)\n",
        "print(f\"Confusion matrix:\\n{cm}\")"
      ]
    },
    {
      "cell_type": "markdown",
      "id": "f51f042d-9e54-4489-8063-e02819a539af",
      "metadata": {
        "id": "f51f042d-9e54-4489-8063-e02819a539af"
      },
      "source": [
        "## Dump the models"
      ]
    },
    {
      "cell_type": "code",
      "execution_count": 19,
      "id": "183e760b-1c74-407f-b9c6-17f227e3ed9c",
      "metadata": {
        "id": "183e760b-1c74-407f-b9c6-17f227e3ed9c"
      },
      "outputs": [],
      "source": [
        "# create folder with name_datestamp\n",
        "name = \"anirudh\"\n",
        "folder_name = datetime.datetime.now().date().strftime(\"%m%d%Y\")\n",
        "folder_path = os.path.join(models_path, name + \"_\" + folder_name)\n",
        "if not os.path.exists(folder_path):\n",
        "    os.makedirs(folder_path)\n",
        "                      \n",
        "\n",
        "with open(os.path.join(folder_path, 'lr_model.pkl'), 'wb') as file:\n",
        "    pickle.dump(lr_model, file)\n",
        "\n",
        "# Dump decision tree model to file\n",
        "with open(os.path.join(folder_path, 'dt_model.pkl'), 'wb') as file:\n",
        "    pickle.dump(dt_model, file)\n",
        "\n",
        "# Dump random forest model to file\n",
        "with open(os.path.join(folder_path, 'rf_model.pkl'), 'wb') as file:\n",
        "    pickle.dump(rf_model, file)\n",
        "\n",
        "# Dump SVM model to file\n",
        "with open(os.path.join(folder_path, 'svm_model.pkl'), 'wb') as file:\n",
        "    pickle.dump(svm_model, file)\n",
        "\n",
        "# Dump gradient boosting model to file\n",
        "with open(os.path.join(folder_path, 'gb_model.pkl'), 'wb') as file:\n",
        "    pickle.dump(gb_model, file)\n",
        "\n",
        "# Dump neural network model to file\n",
        "with open(os.path.join(folder_path, 'nn_model.pkl'), 'wb') as file:\n",
        "    pickle.dump(nn_model, file)"
      ]
    },
    {
      "cell_type": "code",
      "execution_count": 19,
      "id": "0fc12219-a7e6-4815-aeec-7e6af537e58f",
      "metadata": {
        "id": "0fc12219-a7e6-4815-aeec-7e6af537e58f"
      },
      "outputs": [],
      "source": []
    },
    {
      "cell_type": "code",
      "execution_count": 19,
      "id": "2b3ecdda-b54e-44d6-9ddf-52b5540c5df4",
      "metadata": {
        "id": "2b3ecdda-b54e-44d6-9ddf-52b5540c5df4"
      },
      "outputs": [],
      "source": []
    },
    {
      "cell_type": "code",
      "execution_count": 19,
      "id": "ce44a229-4561-4e04-9176-65a99c80f3c3",
      "metadata": {
        "id": "ce44a229-4561-4e04-9176-65a99c80f3c3"
      },
      "outputs": [],
      "source": []
    }
  ],
  "metadata": {
    "kernelspec": {
      "display_name": "Python 3 (ipykernel)",
      "language": "python",
      "name": "python3"
    },
    "language_info": {
      "codemirror_mode": {
        "name": "ipython",
        "version": 3
      },
      "file_extension": ".py",
      "mimetype": "text/x-python",
      "name": "python",
      "nbconvert_exporter": "python",
      "pygments_lexer": "ipython3",
      "version": "3.9.16"
    },
    "colab": {
      "provenance": []
    }
  },
  "nbformat": 4,
  "nbformat_minor": 5
}